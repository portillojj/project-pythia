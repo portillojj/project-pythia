{
 "cells": [
  {
   "cell_type": "code",
   "execution_count": 2,
   "id": "d388d306-41be-48d0-9737-8bdba78cc6f9",
   "metadata": {},
   "outputs": [
    {
     "ename": "NoSuchElementException",
     "evalue": "Message: no such element: Unable to locate element: {\"method\":\"css selector\",\"selector\":\"[name=\"search_term\"]\"}\n  (Session info: chrome=125.0.6422.113); For documentation on this error, please visit: https://www.selenium.dev/documentation/webdriver/troubleshooting/errors#no-such-element-exception\nStacktrace:\n\tGetHandleVerifier [0x00007FF62A001F52+60322]\n\t(No symbol) [0x00007FF629F7CEC9]\n\t(No symbol) [0x00007FF629E37EBA]\n\t(No symbol) [0x00007FF629E87676]\n\t(No symbol) [0x00007FF629E8773C]\n\t(No symbol) [0x00007FF629ECE967]\n\t(No symbol) [0x00007FF629EAC25F]\n\t(No symbol) [0x00007FF629ECBC80]\n\t(No symbol) [0x00007FF629EABFC3]\n\t(No symbol) [0x00007FF629E79617]\n\t(No symbol) [0x00007FF629E7A211]\n\tGetHandleVerifier [0x00007FF62A3194AD+3301629]\n\tGetHandleVerifier [0x00007FF62A3636D3+3605283]\n\tGetHandleVerifier [0x00007FF62A359450+3563680]\n\tGetHandleVerifier [0x00007FF62A0B4326+790390]\n\t(No symbol) [0x00007FF629F8750F]\n\t(No symbol) [0x00007FF629F83404]\n\t(No symbol) [0x00007FF629F83592]\n\t(No symbol) [0x00007FF629F72F9F]\n\tBaseThreadInitThunk [0x00007FFF3430257D+29]\n\tRtlUserThreadStart [0x00007FFF3572AA48+40]\n",
     "output_type": "error",
     "traceback": [
      "\u001b[1;31m---------------------------------------------------------------------------\u001b[0m",
      "\u001b[1;31mNoSuchElementException\u001b[0m                    Traceback (most recent call last)",
      "Cell \u001b[1;32mIn[2], line 42\u001b[0m\n\u001b[0;32m     39\u001b[0m all_results \u001b[38;5;241m=\u001b[39m []\n\u001b[0;32m     41\u001b[0m \u001b[38;5;28;01mfor\u001b[39;00m code \u001b[38;5;129;01min\u001b[39;00m codes:\n\u001b[1;32m---> 42\u001b[0m     results \u001b[38;5;241m=\u001b[39m search_numeric_codes(code)\n\u001b[0;32m     43\u001b[0m     all_results\u001b[38;5;241m.\u001b[39mextend(results)\n\u001b[0;32m     45\u001b[0m \u001b[38;5;66;03m# Convert results to a DataFrame\u001b[39;00m\n",
      "Cell \u001b[1;32mIn[2], line 16\u001b[0m, in \u001b[0;36msearch_numeric_codes\u001b[1;34m(code)\u001b[0m\n\u001b[0;32m     14\u001b[0m driver \u001b[38;5;241m=\u001b[39m webdriver\u001b[38;5;241m.\u001b[39mChrome()  \u001b[38;5;66;03m# Ensure you have the Chrome WebDriver installed\u001b[39;00m\n\u001b[0;32m     15\u001b[0m driver\u001b[38;5;241m.\u001b[39mget(url)\n\u001b[1;32m---> 16\u001b[0m search_box \u001b[38;5;241m=\u001b[39m driver\u001b[38;5;241m.\u001b[39mfind_element(By\u001b[38;5;241m.\u001b[39mNAME, \u001b[38;5;124m'\u001b[39m\u001b[38;5;124msearch_term\u001b[39m\u001b[38;5;124m'\u001b[39m)  \u001b[38;5;66;03m# Adjust the element locator as needed\u001b[39;00m\n\u001b[0;32m     17\u001b[0m search_box\u001b[38;5;241m.\u001b[39msend_keys(code)\n\u001b[0;32m     18\u001b[0m search_box\u001b[38;5;241m.\u001b[39msend_keys(Keys\u001b[38;5;241m.\u001b[39mRETURN)\n",
      "File \u001b[1;32m~\\anaconda3\\Lib\\site-packages\\selenium\\webdriver\\remote\\webdriver.py:741\u001b[0m, in \u001b[0;36mWebDriver.find_element\u001b[1;34m(self, by, value)\u001b[0m\n\u001b[0;32m    738\u001b[0m     by \u001b[38;5;241m=\u001b[39m By\u001b[38;5;241m.\u001b[39mCSS_SELECTOR\n\u001b[0;32m    739\u001b[0m     value \u001b[38;5;241m=\u001b[39m \u001b[38;5;124mf\u001b[39m\u001b[38;5;124m'\u001b[39m\u001b[38;5;124m[name=\u001b[39m\u001b[38;5;124m\"\u001b[39m\u001b[38;5;132;01m{\u001b[39;00mvalue\u001b[38;5;132;01m}\u001b[39;00m\u001b[38;5;124m\"\u001b[39m\u001b[38;5;124m]\u001b[39m\u001b[38;5;124m'\u001b[39m\n\u001b[1;32m--> 741\u001b[0m \u001b[38;5;28;01mreturn\u001b[39;00m \u001b[38;5;28mself\u001b[39m\u001b[38;5;241m.\u001b[39mexecute(Command\u001b[38;5;241m.\u001b[39mFIND_ELEMENT, {\u001b[38;5;124m\"\u001b[39m\u001b[38;5;124musing\u001b[39m\u001b[38;5;124m\"\u001b[39m: by, \u001b[38;5;124m\"\u001b[39m\u001b[38;5;124mvalue\u001b[39m\u001b[38;5;124m\"\u001b[39m: value})[\u001b[38;5;124m\"\u001b[39m\u001b[38;5;124mvalue\u001b[39m\u001b[38;5;124m\"\u001b[39m]\n",
      "File \u001b[1;32m~\\anaconda3\\Lib\\site-packages\\selenium\\webdriver\\remote\\webdriver.py:347\u001b[0m, in \u001b[0;36mWebDriver.execute\u001b[1;34m(self, driver_command, params)\u001b[0m\n\u001b[0;32m    345\u001b[0m response \u001b[38;5;241m=\u001b[39m \u001b[38;5;28mself\u001b[39m\u001b[38;5;241m.\u001b[39mcommand_executor\u001b[38;5;241m.\u001b[39mexecute(driver_command, params)\n\u001b[0;32m    346\u001b[0m \u001b[38;5;28;01mif\u001b[39;00m response:\n\u001b[1;32m--> 347\u001b[0m     \u001b[38;5;28mself\u001b[39m\u001b[38;5;241m.\u001b[39merror_handler\u001b[38;5;241m.\u001b[39mcheck_response(response)\n\u001b[0;32m    348\u001b[0m     response[\u001b[38;5;124m\"\u001b[39m\u001b[38;5;124mvalue\u001b[39m\u001b[38;5;124m\"\u001b[39m] \u001b[38;5;241m=\u001b[39m \u001b[38;5;28mself\u001b[39m\u001b[38;5;241m.\u001b[39m_unwrap_value(response\u001b[38;5;241m.\u001b[39mget(\u001b[38;5;124m\"\u001b[39m\u001b[38;5;124mvalue\u001b[39m\u001b[38;5;124m\"\u001b[39m, \u001b[38;5;28;01mNone\u001b[39;00m))\n\u001b[0;32m    349\u001b[0m     \u001b[38;5;28;01mreturn\u001b[39;00m response\n",
      "File \u001b[1;32m~\\anaconda3\\Lib\\site-packages\\selenium\\webdriver\\remote\\errorhandler.py:229\u001b[0m, in \u001b[0;36mErrorHandler.check_response\u001b[1;34m(self, response)\u001b[0m\n\u001b[0;32m    227\u001b[0m         alert_text \u001b[38;5;241m=\u001b[39m value[\u001b[38;5;124m\"\u001b[39m\u001b[38;5;124malert\u001b[39m\u001b[38;5;124m\"\u001b[39m]\u001b[38;5;241m.\u001b[39mget(\u001b[38;5;124m\"\u001b[39m\u001b[38;5;124mtext\u001b[39m\u001b[38;5;124m\"\u001b[39m)\n\u001b[0;32m    228\u001b[0m     \u001b[38;5;28;01mraise\u001b[39;00m exception_class(message, screen, stacktrace, alert_text)  \u001b[38;5;66;03m# type: ignore[call-arg]  # mypy is not smart enough here\u001b[39;00m\n\u001b[1;32m--> 229\u001b[0m \u001b[38;5;28;01mraise\u001b[39;00m exception_class(message, screen, stacktrace)\n",
      "\u001b[1;31mNoSuchElementException\u001b[0m: Message: no such element: Unable to locate element: {\"method\":\"css selector\",\"selector\":\"[name=\"search_term\"]\"}\n  (Session info: chrome=125.0.6422.113); For documentation on this error, please visit: https://www.selenium.dev/documentation/webdriver/troubleshooting/errors#no-such-element-exception\nStacktrace:\n\tGetHandleVerifier [0x00007FF62A001F52+60322]\n\t(No symbol) [0x00007FF629F7CEC9]\n\t(No symbol) [0x00007FF629E37EBA]\n\t(No symbol) [0x00007FF629E87676]\n\t(No symbol) [0x00007FF629E8773C]\n\t(No symbol) [0x00007FF629ECE967]\n\t(No symbol) [0x00007FF629EAC25F]\n\t(No symbol) [0x00007FF629ECBC80]\n\t(No symbol) [0x00007FF629EABFC3]\n\t(No symbol) [0x00007FF629E79617]\n\t(No symbol) [0x00007FF629E7A211]\n\tGetHandleVerifier [0x00007FF62A3194AD+3301629]\n\tGetHandleVerifier [0x00007FF62A3636D3+3605283]\n\tGetHandleVerifier [0x00007FF62A359450+3563680]\n\tGetHandleVerifier [0x00007FF62A0B4326+790390]\n\t(No symbol) [0x00007FF629F8750F]\n\t(No symbol) [0x00007FF629F83404]\n\t(No symbol) [0x00007FF629F83592]\n\t(No symbol) [0x00007FF629F72F9F]\n\tBaseThreadInitThunk [0x00007FFF3430257D+29]\n\tRtlUserThreadStart [0x00007FFF3572AA48+40]\n"
     ]
    }
   ],
   "source": [
    "import requests\n",
    "from bs4 import BeautifulSoup\n",
    "import pandas as pd\n",
    "from selenium import webdriver\n",
    "from selenium.webdriver.common.by import By\n",
    "from selenium.webdriver.common.keys import Keys\n",
    "import time\n",
    "\n",
    "# Function to search for numeric codes\n",
    "def search_numeric_codes(code):\n",
    "    url = \"https://rulings.cbp.gov/search?term=6401&collection=ALL&sortBy=RELEVANCE&pageSize=30&page=1\"\n",
    "    \n",
    "    # Using Selenium to interact with the search form\n",
    "    driver = webdriver.Chrome()  # Ensure you have the Chrome WebDriver installed\n",
    "    driver.get(url)\n",
    "    search_box = driver.find_element(By.NAME, 'search_term')  # Adjust the element locator as needed\n",
    "    search_box.send_keys(code)\n",
    "    search_box.send_keys(Keys.RETURN)\n",
    "    \n",
    "    # Wait for the results to load\n",
    "    time.sleep(5)\n",
    "    \n",
    "    # Scrape the results page\n",
    "    soup = BeautifulSoup(driver.page_source, 'html.parser')\n",
    "    driver.quit()\n",
    "\n",
    "    # Extract relevant information\n",
    "    results = []\n",
    "    for item in soup.find_all('div', class_='search-result-item'):  # Adjust the tag and class as needed\n",
    "        title = item.find('h2').text\n",
    "        description = item.find('p').text\n",
    "        link = item.find('a')['href']\n",
    "        results.append({'Title': title, 'Description': description, 'Link': link})\n",
    "    \n",
    "    return results\n",
    "\n",
    "# Example usage\n",
    "codes = ['6401', '6402']  # List of numeric codes to search for\n",
    "all_results = []\n",
    "\n",
    "for code in codes:\n",
    "    results = search_numeric_codes(code)\n",
    "    all_results.extend(results)\n",
    "\n",
    "# Convert results to a DataFrame\n",
    "df = pd.DataFrame(all_results)\n",
    "\n",
    "# Export to CSV\n",
    "df.to_csv('search_results.csv', index=False)"
   ]
  },
  {
   "cell_type": "code",
   "execution_count": null,
   "id": "b6ae3f08-a504-4359-b0b7-03c79e2b6ffb",
   "metadata": {},
   "outputs": [],
   "source": []
  }
 ],
 "metadata": {
  "kernelspec": {
   "display_name": "Python 3 (ipykernel)",
   "language": "python",
   "name": "python3"
  },
  "language_info": {
   "codemirror_mode": {
    "name": "ipython",
    "version": 3
   },
   "file_extension": ".py",
   "mimetype": "text/x-python",
   "name": "python",
   "nbconvert_exporter": "python",
   "pygments_lexer": "ipython3",
   "version": "3.11.5"
  }
 },
 "nbformat": 4,
 "nbformat_minor": 5
}
